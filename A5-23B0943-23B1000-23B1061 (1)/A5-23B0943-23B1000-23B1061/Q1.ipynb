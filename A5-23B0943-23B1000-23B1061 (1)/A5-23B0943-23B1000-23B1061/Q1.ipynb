{
 "cells": [
  {
   "cell_type": "code",
   "execution_count": 1,
   "metadata": {
    "id": "IiMx7COlpbia"
   },
   "outputs": [],
   "source": [
    "#imports\n",
    "import numpy as np\n",
    "import pandas as pd\n",
    "from sklearn.linear_model import LinearRegression\n",
    "import matplotlib.pyplot as plt\n",
    "import seaborn as sns"
   ]
  },
  {
   "cell_type": "code",
   "execution_count": 2,
   "metadata": {
    "id": "dUblyP3wpho_"
   },
   "outputs": [],
   "source": [
    "# Load the dataset\n",
    "data = pd.read_csv('./TaxiData.csv')"
   ]
  },
  {
   "cell_type": "markdown",
   "metadata": {
    "id": "_lBhbIr7xFrf"
   },
   "source": [
    "## Q 1.1 Categorizing Columns"
   ]
  },
  {
   "cell_type": "markdown",
   "metadata": {
    "id": "hnOgRMuvoI9p"
   },
   "source": [
    "<div>\n",
    "Dataset size: 15002<br>\n",
    "Number of columns: 18 [12-float64, 4-int64, 2-object]<br>\n",
    "2 Categorical columns (\"payment_type\", \"company\"), and others Numerical Columns.<br>\n",
    "Dataset contains taxi trip data, including details such as trip distance, duration, fare amount, tip amount, pickup/drop-off locations and timestamps, and possibly payment method<br>\n",
    "</div>"
   ]
  },
  {
   "cell_type": "code",
   "execution_count": 3,
   "metadata": {},
   "outputs": [
    {
     "data": {
      "text/html": [
       "<div>\n",
       "<style scoped>\n",
       "    .dataframe tbody tr th:only-of-type {\n",
       "        vertical-align: middle;\n",
       "    }\n",
       "\n",
       "    .dataframe tbody tr th {\n",
       "        vertical-align: top;\n",
       "    }\n",
       "\n",
       "    .dataframe thead th {\n",
       "        text-align: right;\n",
       "    }\n",
       "</style>\n",
       "<table border=\"1\" class=\"dataframe\">\n",
       "  <thead>\n",
       "    <tr style=\"text-align: right;\">\n",
       "      <th></th>\n",
       "      <th>pickup_community_area</th>\n",
       "      <th>fare</th>\n",
       "      <th>trip_start_month</th>\n",
       "      <th>trip_start_hour</th>\n",
       "      <th>trip_start_day</th>\n",
       "      <th>trip_start_timestamp</th>\n",
       "      <th>pickup_latitude</th>\n",
       "      <th>pickup_longitude</th>\n",
       "      <th>dropoff_latitude</th>\n",
       "      <th>dropoff_longitude</th>\n",
       "      <th>trip_miles</th>\n",
       "      <th>pickup_census_tract</th>\n",
       "      <th>dropoff_census_tract</th>\n",
       "      <th>payment_type</th>\n",
       "      <th>company</th>\n",
       "      <th>trip_seconds</th>\n",
       "      <th>dropoff_community_area</th>\n",
       "      <th>tips</th>\n",
       "    </tr>\n",
       "  </thead>\n",
       "  <tbody>\n",
       "    <tr>\n",
       "      <th>0</th>\n",
       "      <td>NaN</td>\n",
       "      <td>12.45</td>\n",
       "      <td>5</td>\n",
       "      <td>19</td>\n",
       "      <td>6</td>\n",
       "      <td>1400269500</td>\n",
       "      <td>NaN</td>\n",
       "      <td>NaN</td>\n",
       "      <td>NaN</td>\n",
       "      <td>NaN</td>\n",
       "      <td>0.0</td>\n",
       "      <td>NaN</td>\n",
       "      <td>NaN</td>\n",
       "      <td>Credit Card</td>\n",
       "      <td>Chicago Elite Cab Corp. (Chicago Carriag</td>\n",
       "      <td>0.0</td>\n",
       "      <td>NaN</td>\n",
       "      <td>0.0</td>\n",
       "    </tr>\n",
       "    <tr>\n",
       "      <th>1</th>\n",
       "      <td>NaN</td>\n",
       "      <td>0.00</td>\n",
       "      <td>3</td>\n",
       "      <td>19</td>\n",
       "      <td>5</td>\n",
       "      <td>1362683700</td>\n",
       "      <td>NaN</td>\n",
       "      <td>NaN</td>\n",
       "      <td>NaN</td>\n",
       "      <td>NaN</td>\n",
       "      <td>0.0</td>\n",
       "      <td>NaN</td>\n",
       "      <td>NaN</td>\n",
       "      <td>Unknown</td>\n",
       "      <td>Chicago Elite Cab Corp.</td>\n",
       "      <td>300.0</td>\n",
       "      <td>NaN</td>\n",
       "      <td>0.0</td>\n",
       "    </tr>\n",
       "    <tr>\n",
       "      <th>2</th>\n",
       "      <td>60.0</td>\n",
       "      <td>27.05</td>\n",
       "      <td>10</td>\n",
       "      <td>2</td>\n",
       "      <td>3</td>\n",
       "      <td>1380593700</td>\n",
       "      <td>41.836150</td>\n",
       "      <td>-87.648788</td>\n",
       "      <td>NaN</td>\n",
       "      <td>NaN</td>\n",
       "      <td>12.6</td>\n",
       "      <td>NaN</td>\n",
       "      <td>NaN</td>\n",
       "      <td>Cash</td>\n",
       "      <td>Taxi Affiliation Services</td>\n",
       "      <td>1380.0</td>\n",
       "      <td>NaN</td>\n",
       "      <td>0.0</td>\n",
       "    </tr>\n",
       "    <tr>\n",
       "      <th>3</th>\n",
       "      <td>10.0</td>\n",
       "      <td>5.85</td>\n",
       "      <td>10</td>\n",
       "      <td>1</td>\n",
       "      <td>2</td>\n",
       "      <td>1382319000</td>\n",
       "      <td>41.985015</td>\n",
       "      <td>-87.804532</td>\n",
       "      <td>NaN</td>\n",
       "      <td>NaN</td>\n",
       "      <td>0.0</td>\n",
       "      <td>NaN</td>\n",
       "      <td>NaN</td>\n",
       "      <td>Cash</td>\n",
       "      <td>Taxi Affiliation Services</td>\n",
       "      <td>180.0</td>\n",
       "      <td>NaN</td>\n",
       "      <td>0.0</td>\n",
       "    </tr>\n",
       "    <tr>\n",
       "      <th>4</th>\n",
       "      <td>14.0</td>\n",
       "      <td>16.65</td>\n",
       "      <td>5</td>\n",
       "      <td>7</td>\n",
       "      <td>5</td>\n",
       "      <td>1369897200</td>\n",
       "      <td>41.968069</td>\n",
       "      <td>-87.721559</td>\n",
       "      <td>NaN</td>\n",
       "      <td>NaN</td>\n",
       "      <td>0.0</td>\n",
       "      <td>NaN</td>\n",
       "      <td>NaN</td>\n",
       "      <td>Cash</td>\n",
       "      <td>Dispatch Taxi Affiliation</td>\n",
       "      <td>1080.0</td>\n",
       "      <td>NaN</td>\n",
       "      <td>0.0</td>\n",
       "    </tr>\n",
       "  </tbody>\n",
       "</table>\n",
       "</div>"
      ],
      "text/plain": [
       "   pickup_community_area   fare  trip_start_month  trip_start_hour  \\\n",
       "0                    NaN  12.45                 5               19   \n",
       "1                    NaN   0.00                 3               19   \n",
       "2                   60.0  27.05                10                2   \n",
       "3                   10.0   5.85                10                1   \n",
       "4                   14.0  16.65                 5                7   \n",
       "\n",
       "   trip_start_day  trip_start_timestamp  pickup_latitude  pickup_longitude  \\\n",
       "0               6            1400269500              NaN               NaN   \n",
       "1               5            1362683700              NaN               NaN   \n",
       "2               3            1380593700        41.836150        -87.648788   \n",
       "3               2            1382319000        41.985015        -87.804532   \n",
       "4               5            1369897200        41.968069        -87.721559   \n",
       "\n",
       "   dropoff_latitude  dropoff_longitude  trip_miles  pickup_census_tract  \\\n",
       "0               NaN                NaN         0.0                  NaN   \n",
       "1               NaN                NaN         0.0                  NaN   \n",
       "2               NaN                NaN        12.6                  NaN   \n",
       "3               NaN                NaN         0.0                  NaN   \n",
       "4               NaN                NaN         0.0                  NaN   \n",
       "\n",
       "   dropoff_census_tract payment_type  \\\n",
       "0                   NaN  Credit Card   \n",
       "1                   NaN      Unknown   \n",
       "2                   NaN         Cash   \n",
       "3                   NaN         Cash   \n",
       "4                   NaN         Cash   \n",
       "\n",
       "                                    company  trip_seconds  \\\n",
       "0  Chicago Elite Cab Corp. (Chicago Carriag           0.0   \n",
       "1                   Chicago Elite Cab Corp.         300.0   \n",
       "2                 Taxi Affiliation Services        1380.0   \n",
       "3                 Taxi Affiliation Services         180.0   \n",
       "4                 Dispatch Taxi Affiliation        1080.0   \n",
       "\n",
       "   dropoff_community_area  tips  \n",
       "0                     NaN   0.0  \n",
       "1                     NaN   0.0  \n",
       "2                     NaN   0.0  \n",
       "3                     NaN   0.0  \n",
       "4                     NaN   0.0  "
      ]
     },
     "execution_count": 3,
     "metadata": {},
     "output_type": "execute_result"
    }
   ],
   "source": [
    "data.head()"
   ]
  },
  {
   "cell_type": "code",
   "execution_count": 4,
   "metadata": {
    "id": "N-wtsijYp4cg"
   },
   "outputs": [
    {
     "name": "stdout",
     "output_type": "stream",
     "text": [
      "<class 'pandas.core.frame.DataFrame'>\n",
      "RangeIndex: 15002 entries, 0 to 15001\n",
      "Data columns (total 18 columns):\n",
      " #   Column                  Non-Null Count  Dtype  \n",
      "---  ------                  --------------  -----  \n",
      " 0   pickup_community_area   15000 non-null  float64\n",
      " 1   fare                    15002 non-null  float64\n",
      " 2   trip_start_month        15002 non-null  int64  \n",
      " 3   trip_start_hour         15002 non-null  int64  \n",
      " 4   trip_start_day          15002 non-null  int64  \n",
      " 5   trip_start_timestamp    15002 non-null  int64  \n",
      " 6   pickup_latitude         15000 non-null  float64\n",
      " 7   pickup_longitude        15000 non-null  float64\n",
      " 8   dropoff_latitude        14520 non-null  float64\n",
      " 9   dropoff_longitude       14520 non-null  float64\n",
      " 10  trip_miles              15002 non-null  float64\n",
      " 11  pickup_census_tract     1 non-null      float64\n",
      " 12  dropoff_census_tract    10761 non-null  float64\n",
      " 13  payment_type            15002 non-null  object \n",
      " 14  company                 9862 non-null   object \n",
      " 15  trip_seconds            14996 non-null  float64\n",
      " 16  dropoff_community_area  14496 non-null  float64\n",
      " 17  tips                    15002 non-null  float64\n",
      "dtypes: float64(12), int64(4), object(2)\n",
      "memory usage: 2.1+ MB\n"
     ]
    }
   ],
   "source": [
    "data.info()"
   ]
  },
  {
   "cell_type": "code",
   "execution_count": 5,
   "metadata": {},
   "outputs": [
    {
     "name": "stdout",
     "output_type": "stream",
     "text": [
      "Categorical Columns: Index(['payment_type', 'company'], dtype='object')\n",
      "Numerical Columns: Index(['pickup_community_area', 'fare', 'trip_start_month', 'trip_start_hour',\n",
      "       'trip_start_day', 'trip_start_timestamp', 'pickup_latitude',\n",
      "       'pickup_longitude', 'dropoff_latitude', 'dropoff_longitude',\n",
      "       'trip_miles', 'pickup_census_tract', 'dropoff_census_tract',\n",
      "       'trip_seconds', 'dropoff_community_area', 'tips'],\n",
      "      dtype='object')\n"
     ]
    }
   ],
   "source": [
    "# 2.1: Categorize columns by data type\n",
    "categorical_cols = data.select_dtypes(include=['object']).columns\n",
    "numerical_cols = data.select_dtypes(include=[np.number]).columns\n",
    "\n",
    "print(\"Categorical Columns:\", categorical_cols)\n",
    "print(\"Numerical Columns:\", numerical_cols)\n"
   ]
  },
  {
   "cell_type": "markdown",
   "metadata": {
    "id": "_lBhbIr7xFrf"
   },
   "source": [
    "## Q 1.2 Type Conversion"
   ]
  },
  {
   "cell_type": "markdown",
   "metadata": {},
   "source": [
    "```\n",
    "object-type can be converted to category-type. This is memory efficent and is faster\n",
    "```"
   ]
  },
  {
   "cell_type": "code",
   "execution_count": 9,
   "metadata": {},
   "outputs": [
    {
     "name": "stdout",
     "output_type": "stream",
     "text": [
      "Data Types After Conversion:\n",
      " pickup_community_area      float64\n",
      "fare                       float64\n",
      "trip_start_month             int64\n",
      "trip_start_hour              int64\n",
      "trip_start_day               int64\n",
      "trip_start_timestamp         int64\n",
      "pickup_latitude            float64\n",
      "pickup_longitude           float64\n",
      "dropoff_latitude           float64\n",
      "dropoff_longitude          float64\n",
      "trip_miles                 float64\n",
      "pickup_census_tract        float64\n",
      "dropoff_census_tract       float64\n",
      "payment_type              category\n",
      "company                   category\n",
      "trip_seconds               float64\n",
      "dropoff_community_area     float64\n",
      "tips                       float64\n",
      "dtype: object\n"
     ]
    }
   ],
   "source": [
    "\n",
    "# Convert categorical columns to category type\n",
    "for col in categorical_cols:\n",
    "    data[col] = data[col].astype('category')\n",
    "\n",
    "# Display updated data types\n",
    "print(\"Data Types After Conversion:\\n\", data.dtypes)\n"
   ]
  },
  {
   "cell_type": "markdown",
   "metadata": {
    "id": "_lBhbIr7xFrf"
   },
   "source": [
    "## Q 1.3 Identifing Missing Values"
   ]
  },
  {
   "cell_type": "markdown",
   "metadata": {
    "id": "hnOgRMuvoI9p"
   },
   "source": [
    "<div>\n",
    "1. As can be seen from the heatmap, 3 columns (dropoff_lattitude, dropoff_longitude, dropoff_community-area) have around 500 missing values. Since this is only a small portion, these can be filled with values such as mean, median or mode.<br>\n",
    "2. There are 2 columns (dropoff_census_tract, company) with around 5000 nulls which is around 33%. With a substantial portion of the data missing, simple imputation may lead to bias. So these can be dropped or use predictive imputation depending on whether it is a critical column.<br>\n",
    "3. We have no data for the column \"pickup_census_tract\" which has only 1 entry. We need to remove this column as it cannot provide any insights.<br>\n",
    "4. Although a few columns have missing values, we can gain many insights from this dataset.\n",
    "</div>"
   ]
  },
  {
   "cell_type": "code",
   "execution_count": 7,
   "metadata": {},
   "outputs": [
    {
     "name": "stdout",
     "output_type": "stream",
     "text": [
      "Missing values per column:\n",
      " pickup_community_area         2\n",
      "fare                          0\n",
      "trip_start_month              0\n",
      "trip_start_hour               0\n",
      "trip_start_day                0\n",
      "trip_start_timestamp          0\n",
      "pickup_latitude               2\n",
      "pickup_longitude              2\n",
      "dropoff_latitude            482\n",
      "dropoff_longitude           482\n",
      "trip_miles                    0\n",
      "pickup_census_tract       15001\n",
      "dropoff_census_tract       4241\n",
      "payment_type                  0\n",
      "company                    5140\n",
      "trip_seconds                  6\n",
      "dropoff_community_area      506\n",
      "tips                          0\n",
      "dtype: int64\n"
     ]
    },
    {
     "data": {
      "image/png": "[encoded data removed]",
      "text/plain": [
       "<Figure size 1000x600 with 1 Axes>"
      ]
     },
     "metadata": {},
     "output_type": "display_data"
    }
   ],
   "source": [
    "\n",
    "# Step 2.2: Check for missing values\n",
    "missing_data = data.isnull().sum()\n",
    "print(\"Missing values per column:\\n\", missing_data)\n",
    "\n",
    "# Visualize missing values\n",
    "plt.figure(figsize=(10,6))\n",
    "sns.heatmap(data.isnull(), cbar=False, cmap=\"viridis\")\n",
    "plt.title(\"Missing Values Heatmap\")\n",
    "plt.show()\n"
   ]
  },
  {
   "cell_type": "markdown",
   "metadata": {
    "id": "_lBhbIr7xFrf"
   },
   "source": [
    "## Q 1.4 Handling Missing Values"
   ]
  },
  {
   "cell_type": "markdown",
   "metadata": {
    "id": "hnOgRMuvoI9p"
   },
   "source": [
    "<div>\n",
    "    1. For the 3 columns, \"dropoff_lattitude\", \"dropoff_longitude\", \"dropoff_community_area\", which have around 500 missing values, <b>mean imputation </b> is used.\n",
    "    <br>\n",
    "    2. And for columns-\"dropoff_census_tract\" and \"company\", with around 5000 nulls, <b>predictive imputation</b> - linear regression is used.\n",
    "        <br>\n",
    "    3. The column \"pickup_census_tract\" which has only 1 entry has been removed.\n",
    "</div>"
   ]
  },
  {
   "cell_type": "code",
   "execution_count": 8,
   "metadata": {},
   "outputs": [],
   "source": [
    "# Step 1.4: Handle missing values\n",
    "\n",
    "# Copy data for processing\n",
    "processed_data = data.copy()\n",
    "\n",
    "# Select numerical columns\n",
    "numerical_columns = data.select_dtypes(include=np.number).columns\n",
    "\n",
    "# Iterate over numerical columns to handle missing values\n",
    "for column in numerical_columns:\n",
    "    if data[column].isnull().sum() > 0:  # Check for missing values\n",
    "        missing_count = data[column].isnull().sum()\n",
    "        \n",
    "        if missing_count < 600:\n",
    "            # Replace missing values with column mean\n",
    "            mean_value = data[column].mean()\n",
    "            processed_data[column] = processed_data[column].fillna(mean_value)\n",
    "        \n",
    "        elif 600 <= missing_count <= 6000:\n",
    "            # Use linear regression to fill missing values\n",
    "            non_missing_data = data[data[column].notnull()]\n",
    "            missing_data = data[data[column].isnull()]\n",
    "            \n",
    "            # Use other numerical columns as predictors\n",
    "            X_train = non_missing_data[numerical_columns].drop(columns=[column]).dropna()\n",
    "            y_train = non_missing_data[column].loc[X_train.index]  # Match indices\n",
    "            X_test = missing_data[numerical_columns].drop(columns=[column]).dropna()\n",
    "\n",
    "            if not X_train.empty and not X_test.empty:  # Proceed if data is valid\n",
    "                model = LinearRegression()\n",
    "                model.fit(X_train, y_train)\n",
    "                \n",
    "                # Predict missing values\n",
    "                predicted_values = model.predict(X_test)\n",
    "                processed_data.loc[missing_data.index, column] = predicted_values\n",
    "        \n",
    "        elif missing_count > 6000:\n",
    "            # Drop the column\n",
    "            processed_data.drop(columns=[column], inplace=True)\n",
    "\n",
    "# Save the processed data to a new CSV file\n",
    "output_file_path = './Processed_TaxiData.csv'\n",
    "processed_data.to_csv(output_file_path, index=False)"
   ]
  }
 ],
 "metadata": {
  "colab": {
   "provenance": []
  },
  "kernelspec": {
   "display_name": "Python 3 (ipykernel)",
   "language": "python",
   "name": "python3"
  },
  "language_info": {
   "codemirror_mode": {
    "name": "ipython",
    "version": 3
   },
   "file_extension": ".py",
   "mimetype": "text/x-python",
   "name": "python",
   "nbconvert_exporter": "python",
   "pygments_lexer": "ipython3",
   "version": "3.12.4"
  }
 },
 "nbformat": 4,
 "nbformat_minor": 4
}
